{
 "cells": [
  {
   "cell_type": "markdown",
   "id": "ea600835",
   "metadata": {},
   "source": [
    "# Homework 5 "
   ]
  },
  {
   "cell_type": "markdown",
   "id": "70a67664",
   "metadata": {},
   "source": [
    "# Q.1 \n",
    "The \"first pre-lecture video\" (above) describes hypothesis testing as addressing \"an idea that can be tested\", and the end of the video then discusses what our actual intended purpose in setting up a null hypothesis is. What is the key factor that makes the difference between ideas that can, and cannot be examined and tested statistically? What would you describe is the key \"criteria\" defining what a good null hypothesis is? And what is the difference between a null hypothesis and an alternative hypothesis in the context of hypothesis testing? Answer these questions with concise explanations in your own words.\n",
    "> The difference between ideas that can and cannot be examined statistically is whether the idea can be shown in a measurable, testable form. Testing relies on the ability to formulate the hypotheses, collect relevant data, and perform tests that produce p-values, which help determine whether to reject or accept the null hypothesis. If an idea is too vague or cannot be measured, it cannot be statistically tested. A good null hypothesis should clearly define what \"no effect\" or \"no difference\" means, it should be unbiased and have a large enough sample size to say that it is general. the difference between a null hypothesis and an alternatibe hypothesis is that the null is assumed that the thing that we are testing has no effect until proven otherwise, while the althernative is assuming there is an effect when the null is rejected. \n",
    "\n"
   ]
  },
  {
   "cell_type": "markdown",
   "id": "6a3ee8c4",
   "metadata": {},
   "source": [
    "Certainly! Here’s a full summary of what we discussed about **null hypotheses**, **alternative hypotheses**, and their role in **hypothesis testing**:\n",
    "\n",
    "### 1. **Key Factor for Statistical Testing**\n",
    "   The key factor that allows an idea to be statistically tested is whether it can be **measured and quantified**. Ideas must be formulated in a testable way, with relevant data that can be analyzed. Hypothesis testing often involves the **null hypothesis (H₀)**, which assumes no effect or no difference, and the **p-value**, which helps determine whether the evidence is strong enough to reject the null hypothesis in favor of the **alternative hypothesis (H₁)**.\n",
    "\n",
    "### 2. **Criteria for a Good Null Hypothesis**\n",
    "   A good null hypothesis must meet the following criteria:\n",
    "   - **Specific**: It clearly defines what \"no effect\" or \"no difference\" means.\n",
    "   - **Testable**: It can be examined using measurable data.\n",
    "   - **Falsifiable**: There must be the possibility of collecting data that disproves it.\n",
    "   - **Neutral**: It should not be biased toward any outcome.\n",
    "   - **Comparable**: It sets a baseline for comparing observed data.\n",
    "   - **Generalizable**: It applies to the population, not just a specific sample.\n",
    "\n",
    "### 3. **Difference Between Null and Alternative Hypotheses**\n",
    "   - **Null Hypothesis (H₀)**: This is a statement of **no effect**, **no difference**, or **no relationship** between variables. It is the assumption that any observed changes in the data are due to chance.\n",
    "     - Example: \"The vaccine has no effect on health scores.\"\n",
    "   \n",
    "   - **Alternative Hypothesis (H₁)**: This is the statement suggesting that there **is an effect** or **a difference**. It represents what the researcher hopes to prove or support through the data.\n",
    "     - Example: \"The vaccine improves health scores.\"\n",
    "\n",
    "### 4. **Purpose and Role in Hypothesis Testing**\n",
    "   - In hypothesis testing, you start by assuming the **null hypothesis is true** (H₀) and use statistical analysis to determine whether there is enough evidence to reject it.\n",
    "   - The **p-value** helps assess this evidence: A low p-value (typically < 0.05) suggests that the data significantly deviates from what is expected under H₀, leading to its rejection in favor of H₁.\n",
    "   - **Falsifiability** is key: The null hypothesis must be set up so that it can be disproven based on the data.\n",
    "\n",
    "### 5. **One-Tailed vs. Two-Tailed Tests**\n",
    "   - The null hypothesis remains the same (stating no effect) whether you use a one-tailed or two-tailed test.\n",
    "   - The alternative hypothesis differs based on whether you are testing for an effect in one direction (one-tailed) or any difference (two-tailed).\n",
    "\n",
    "### **Conclusion**\n",
    "   Hypothesis testing is a structured way of evaluating whether data supports an idea. The **null hypothesis** assumes no effect or difference, while the **alternative hypothesis** proposes the existence of an effect. The goal is to use data and statistical methods to determine whether there's enough evidence to reject the null hypothesis and support the alternative. Key tools in this process include formulating good hypotheses, gathering measurable data, and using p-values to guide decisions.\n",
    "   \n",
    "link: https://chatgpt.com/share/67071bb8-255c-8013-b8cf-17e18f2d21eb"
   ]
  },
  {
   "cell_type": "markdown",
   "id": "9fa5bc91",
   "metadata": {},
   "source": [
    "# Q.2 \n",
    "Towards the end of the \"first pre-lecture\" video (above) it is stated that, \"It is important to note that outcomes of tests refer to the population parameter, rather than the sample statistic! As such, the result that we get is for the population.\" In terms of the distinctions between the concepts of $x_i\\!$'s, $\\bar x$, $\\mu$, and $\\mu_0$, how would you describe what the sentence above means? Explain this concisely in your own words for a \"non-statsitical\" audience, defining the technical statistical terminology you use in your answer."
   ]
  },
  {
   "cell_type": "markdown",
   "id": "89ec3b13",
   "metadata": {},
   "source": [
    "> 𝑥ᵢ is the specific observations or data points from a sample. These values come from a sample, not the entire population. \n",
    ">\n",
    "> 𝑥̄ is the sample mean is the average of all the individual data points (𝑥ᵢ's) in the sample. 𝑥̄ is a sample statistic, it describes a characteristic of the sample and is used as an estimate of the population's true average. Since 𝑥̄ depends on the specific data points (𝑥ᵢ) in the sample, it can vary from sample to sample.\n",
    ">\n",
    "> 𝜇 is the population mean represents the average of all data points in the entire population, not just the sample. This is called a population parameter because it describes a characteristic of the whole population, which we typically do not know because measuring the entire population is impractical or impossible.\n",
    ">\n",
    "> 𝜇₀ is the population mean under the null hypothesis (H₀). It’s the assumed value of the population mean that we are testing against. \n",
    ">\n",
    "> using these terms, we use sampled data(which is 𝑥ᵢ's and 𝑥̄) to estimate something about the entire population(𝜇), and the test outcome applies to the population as a whole, not just to the sample or smaple mean given from the analysis. "
   ]
  },
  {
   "cell_type": "markdown",
   "id": "0837139a",
   "metadata": {},
   "source": [
    "After your last request, we discussed the difference between **population parameters** and **sample statistics**. A **population parameter** describes an entire group (e.g., the average height of all adults in a country), while a **sample statistic** is calculated from a smaller group, or sample, and is used to estimate the population parameter. When we perform statistical tests, even though we use the sample statistic, the conclusions we draw are about the population as a whole. The sample is just a tool to make educated guesses about the larger population.\n",
    "\n",
    "link: (the same conversation link as the last one) "
   ]
  },
  {
   "cell_type": "markdown",
   "id": "460fe38a",
   "metadata": {},
   "source": [
    "# Q.3\n",
    "The second \"Pre-lecture\" video (above) explains that we \"imagine a world where the null hypothesis is true\" when calculating a p-value? Explain why this is in your own words in a way that makes the most sense to you."
   ]
  },
  {
   "cell_type": "markdown",
   "id": "2b56eaac",
   "metadata": {},
   "source": [
    "> When we calculate the p-value, we start by considering the null hypothesis to be ture because it helps us define a starting point that assumes that the thing that we are testing has no effect or makes no difference. It is like a base line comparison"
   ]
  },
  {
   "cell_type": "markdown",
   "id": "2418bad3",
   "metadata": {},
   "source": [
    "In this conversation, you asked for an explanation of why we \"imagine a world where the null hypothesis is true\" when calculating a p-value. I explained that this perspective allows us to establish a baseline for comparison, measure how extreme our observed data is, assess the risk of incorrectly rejecting the null hypothesis, and make informed decisions about our hypotheses. By doing so, we can better understand the significance of our data and draw conclusions based on the evidence we observe.\n",
    "\n",
    "link: https://chatgpt.com/share/670729a6-861c-8013-b3ad-80850d2a4674"
   ]
  },
  {
   "cell_type": "markdown",
   "id": "a312a6bb",
   "metadata": {},
   "source": [
    "# Q.4\n",
    "The second \"Pre-lecture\" video (above) describes suggest that a smaller p-value makes the null hypothesis look more ridiculous. Explain why this is in your own words in a way that makes the most sense to you, clarifying the meaning of any technical statistical terminology you use in your answer."
   ]
  },
  {
   "cell_type": "markdown",
   "id": "a50979a9",
   "metadata": {},
   "source": [
    ">  A p-value is a measure of the strength of evidence against the null hypothesis. A small p-value indicates that the observed data would be unusual if the null hypothesis were true, making the null hypothesis appear less plausible. The smaller the p-value, the stronger the evidence against the null hypothesis. However, a small p-value does not definitively prove that the null hypothesis is false; there is always a chance that the null hypothesis is true and the observed results occurred due to random variation.\n",
    "\n",
    "> The p-value is calculated by comparing the observed test statistic, derived from the sample, to the sampling distribution of the test statistic under the assumption that the null hypothesis is true. The p-value represents the probability of obtaining results as extreme as (or more extreme than) those observed if the null hypothesis were true. The phrase \"as or more extreme\" refers to how far the observed statistic lies from the center of this sampling distribution. The further away it is, the smaller the p-value.\n"
   ]
  },
  {
   "cell_type": "markdown",
   "id": "204368e0",
   "metadata": {},
   "source": [
    "### Conversation Summary\n",
    "\n",
    "This conversation focused on understanding the concept of **p-values** and their role in **hypothesis testing.** The main takeaway is: **a smaller p-value provides stronger evidence against the null hypothesis**.  This is because a p-value represents the probability of observing a test statistic at least as extreme as the one actually observed, assuming the null hypothesis is true.\n",
    "\n",
    "Here is a step-by-step explanation:\n",
    "\n",
    "*   **The null hypothesis ($H_0$) is a statement about a population parameter.** It is the hypothesis we are trying to disprove or reject. \n",
    "*   We calculate a **test statistic from a sample** to assess the plausibility of the null hypothesis. \n",
    "*   To get a p-value, we compare the observed test statistic to the **sampling distribution of the test statistic under the null hypothesis**. This sampling distribution represents the range of values we would expect to see for the test statistic if the null hypothesis were true.\n",
    "*   The **p-value is the probability of observing a test statistic as or more extreme than the one actually observed** (from our sample) if the null hypothesis were actually true.\n",
    "*   **A small p-value means the observed results are unusual if the null hypothesis is true**. This suggests the null hypothesis might be false.  \n",
    "*   **However, a small p-value doesn't prove the null hypothesis is definitely false.** There's always a chance the null hypothesis is true, and the observed results were due to random chance. \n",
    "\n",
    "The conversation also touched on these points:\n",
    "\n",
    "*   **The phrase \"as or more extreme\"**  in the definition of a p-value refers to how far away the observed test statistic is from the center of the sampling distribution under the null hypothesis. [No source provided for this explanation]\n",
    "*   **Confidence intervals are often a better way to assess the plausibility of a null hypothesis.** They provide a range of plausible values for the parameter of interest. If the null hypothesized value is not within the confidence interval, this provides evidence to reject the null hypothesis. \n",
    "\n",
    "While the sources often refer to confidence intervals as a superior approach to hypothesis testing, they do not explicitly state why this is.\n",
    "\n",
    "link: https://notebooklm.google.com/notebook/5b632901-1742-49c2-8fd8-4636e7a68a45?original_referer=https:%2F%2Fnotebooklm.google%23&pli=1&authuser=2"
   ]
  },
  {
   "cell_type": "markdown",
   "id": "d4d09a33",
   "metadata": {},
   "source": [
    "# Q.5\n",
    "\n",
    "Güntürkün (2003) recorded how kissing couples tilt their heads. 80 out of 124 couples, or 64.5% tilted their heads to the right. Simulate a **p-value** using a \"50/50 coin-flipping\" model for the assumption of the **null hypothesis** $H_0$ that the population of humans don't have left or right head tilt tendencies when kissing, and use the table below to determine the level of evidence we have against $H_0$"
   ]
  },
  {
   "cell_type": "markdown",
   "id": "18778b01",
   "metadata": {},
   "source": [
    "1. we can first define the null hypothesis and alternate hypothesis:\n",
    "    - Null hypothesis (𝐻₀): There is no head-tilting preference, meaning the population proportion of couples who tilt their heads to the right is 0.5. Thus, we assume: \n",
    "    - 𝐻₀: p = 0.5, where p is the population proportion of right-tilting couples.\n",
    "    - Alternative Hypothesis (H₁ or Ha): There is a head-tilting preference, meaning the proportion of couples who tilt their heads to the right is different from 50%. This can be a one-sided or two-sided test\n",
    "2. then we can simulate the null hypothesis\n",
    "    - I have set people who tilts to the right as 1 and left as 0, generating 10k sample with a sample size of 124\n",
    "3. Calculate the p-value:\n",
    "    - after comparing the simulated sample proportions to the observed proportion (64.5% = 0.645). The p-value is the proportion of simulated samples where the proportion is at least as extreme (i.e., ≥ 0.645) as the observed proportion.\n",
    "    - since  the p-value is 0.007, it means that if the null hypothesis were true (i.e., no head-tilting preference), only 0.7% of samples would show a proportion of 0.645 or higher for couples tilting their heads to the right"
   ]
  },
  {
   "cell_type": "code",
   "execution_count": 9,
   "id": "dc93fbb8",
   "metadata": {},
   "outputs": [
    {
     "name": "stdout",
     "output_type": "stream",
     "text": [
      "The p-value is: 0.0007\n"
     ]
    }
   ],
   "source": [
    "import numpy as np\n",
    "\n",
    "n_simulations = 10000  # Number of simulations\n",
    "n_couples = 124  # Number of couples\n",
    "simulated_proportions = []\n",
    "\n",
    "for i in range(n_simulations):\n",
    "    simulated_sample = np.random.choice([0, 1], p=[0.5, 0.5], size=n_couples)\n",
    "    simulated_proportion = np.mean(simulated_sample)\n",
    "    simulated_proportions.append(simulated_proportion)\n",
    "    \n",
    "observed_proportion = 0.645\n",
    "p_value = np.mean(np.array(simulated_proportions) >= observed_proportion)\n",
    "print(f\"The p-value is: {p_value}\")\n"
   ]
  },
  {
   "cell_type": "markdown",
   "id": "ef1f45c7",
   "metadata": {},
   "source": [
    "4. Interpret the p-value:\n",
    "    - A p-value of 0.007 suggests that under the assumption that couples have no head-tilting preference (i.e., 𝐻₀ is true), there is only a 0.7% chance of obtaining a sample proportion as extreme as 0.645 (or higher). This small p-value provides strong evidence against the null hypothesis.\n",
    "5. Make a Decision:\n",
    "    - We compare the p-value to the significance level (α). If we choose α = 0.05, then:\n",
    "        - p-value = 0.007 ≤ α = 0.05, so we reject the null hypothesis. This indicates that the data provides strong evidence that couples have a preference for tilting their heads to the right when kissing.\n",
    "        - Since 0.007 is much smaller than 0.05, we are confident in rejecting 𝐻₀, though there's still a small chance (0.7%) that the observed proportion could occur by random chance if 𝐻₀ were true.\n",
    "6. Determine the Level of Evidence:\n",
    "    - According to common guidelines, p-values can be categorized into levels of evidence:\n",
    "        - p ≤ 0.01: Strong evidence against the null hypothesis.\n",
    "        - p ≤ 0.001: Very strong evidence against the null hypothesis.\n",
    "        - With a p-value of 0.007, this provides strong evidence against the null hypothesis, indicating that couples may have a right-tilting preference when kissing.\n"
   ]
  },
  {
   "cell_type": "markdown",
   "id": "701f0c45",
   "metadata": {},
   "source": [
    "( I first used notebook LM to get a vague idea for what to do, then i used chatgpt to help refine the process)\n",
    "\n",
    "In this conversation, you asked about simulating a p-value to test the null hypothesis (𝐻₀) that couples have no preference for tilting their heads left or right when kissing, based on a study where 80 out of 124 couples (64.5%) tilted their heads to the right. I reviewed and corrected your initial answer, addressing errors in the simulation code (where you incorrectly used `[1]` instead of `[0, 1]` for simulating head tilts) and clarified the p-value interpretation.\n",
    "\n",
    "Then, I updated the explanation to reflect a p-value of 0.007, which suggests strong evidence against the null hypothesis. A p-value of 0.007 means there’s only a 0.7% chance of observing a proportion as extreme as 0.645 if there were no preference. This small p-value implies strong evidence that couples may have a preference for tilting their heads to the right. \n",
    "\n",
    "I also discussed how to interpret this result, including comparing the p-value to the significance level (α = 0.05), concluding that we would reject the null hypothesis, and categorized the level of evidence provided by the p-value.\n",
    "\n",
    "link: https://chatgpt.com/share/670c67ac-cbc4-8013-bc97-335ebb96e9da"
   ]
  },
  {
   "cell_type": "markdown",
   "id": "ead74408",
   "metadata": {},
   "source": [
    "# Q.6\n",
    "Can a smaller p-value definitively prove that the null hypothesis is false? Is it possible to definitively prove that Fido (from the \"second pre-lecture video\") is innocent using a p-value? Is it possible to difinitively prove that Fido is guilty using a p-value? How low or high does a p-value have to be to definitely prove one or the other? Explain this concisely in your own words."
   ]
  },
  {
   "cell_type": "markdown",
   "id": "3e1a6417",
   "metadata": {},
   "source": [
    "> No, a smaller p-value cannot prove the null hypothesis to be false, it can only reject the possibility of the hypothesis to be true.\n",
    "> A p-value, regardless of its size, cannot definitively prove or disprove any hypothesis. A high p-value in Fido's case would merely imply a lack of strong evidence against his innocence. It wouldn't constitute definitive proof of his innocence. Instead of seeking definitive proof, focus on interpreting p-values as indicators of evidence strength. A high p-value in Fido's situation would suggest the observed evidence might be due to random chance or other factors not accounted for in the analysis.\n",
    "> No p-value, regardless of how high or low, can definitively prove a hypothesis true or false. A smaller p-value simply signifies stronger evidence against the null hypothesis, prompting you to consider alternatives. A higher p-value suggests weaker evidence against the null hypothesis."
   ]
  },
  {
   "cell_type": "markdown",
   "id": "922d0f02",
   "metadata": {},
   "source": [
    "# Q.7\n",
    "In the second half of the \"first pre-lecture video\" the concept of a \"one sided\" (or \"one tailed\") test is introduced in contrast to a \"two sided\" (or \"two tailed\") test. Work with a ChatBot to adjust the code from \"Demo II of the Week 5 TUT\" (which revisits the \"Vaccine Data Analysis Assignment\" from Week 04 HW \"Question 8\") in order to compute a p-value for a \"one sided\" (or \"one tailed\") hypothesis test rather than the \"two sided\" (or \"two tailed\") version it provides. Describe (perhaps with the help of your ChatBot) what changed in the code; how this changes the interpretation of the hypothesis test; and whether or not we should indeed expect the p-value to be smaller in the \"one tailed\" versus \"two tailed\" analysis.\n"
   ]
  },
  {
   "cell_type": "markdown",
   "id": "5eedd42a",
   "metadata": {},
   "source": [
    "\n",
    "\n",
    "### Changes and Effect on Interpretation\n",
    "\n",
    "1. **Alternative Hypothesis**:\n",
    "    - In the **two-sided test**, the alternative hypothesis H1 is that the mean difference is not equal to zero \n",
    "    - In the **one-sided test**, the alternative hypothesis \\( H_1 \\) is that the mean difference is greater than zero\n",
    "\n",
    "2. **Code Changes**:\n",
    "    - The key change in the one-sided test is dividing the two-sided p-value by 2 and checking whether the \\( t \\)-statistic is positive. This modification reflects the fact that we're only interested in one direction (an improvement in health).\n",
    "    - If the \\( t \\)-statistic is negative, the p-value is adjusted accordingly to reflect the lack of evidence in favor of the alternative hypothesis.\n",
    "\n",
    "3. **Effect on Interpretation**:\n",
    "    - **Two-Sided Test**: You test for any difference (either an increase or decrease) in health scores due to the vaccine. This is a more conservative approach since you are considering both directions.\n",
    "    - **One-Sided Test**: You are only testing if the vaccine improves health, not if it worsens it. This makes the test more sensitive to detecting improvement, as you're focusing on a specific direction.\n",
    "\n",
    "### Expected Behavior of P-Values\n",
    "\n",
    "- **One-Sided Test**: The p-value is typically **smaller** in the one-sided test compared to the two-sided test because you're dividing the two-sided p-value by 2 (assuming the t-statistic is positive). This reflects the fact that you're only interested in one direction of deviation from the null hypothesis.\n",
    "  \n",
    "- **Two-Sided Test**: The p-value tends to be **larger** in the two-sided test since you're testing for deviations in both directions (either improvement or worsening of health), which requires a larger deviation from the null hypothesis to reject it.\n"
   ]
  },
  {
   "cell_type": "markdown",
   "id": "bed46f89",
   "metadata": {},
   "source": [
    "# Q.8"
   ]
  },
  {
   "cell_type": "markdown",
   "id": "0716d734",
   "metadata": {},
   "source": [
    "1. Introduction\n",
    "> This analysis explores whether students from the STA130 course can correctly identify the order in which tea and milk were poured into a cup. This is a variation of Fisher’s famous tea-tasting experiment, where a hypothesis test is conducted to evaluate the proportion of correct guesses made by students in the sample.\n",
    ">\n",
    "> In the original experiment, Dr. Muriel Bristol claimed she could identify the order of pouring milk and tea, and Fisher used statistical methods to test whether her ability was due to chance. In this version, 80 STA130 students are tested, and 49 correctly identify the order of pouring.\n",
    "\n",
    "2. Population, Sample, and Parameter of Interest\n",
    "> Population: All STA130 students who might take part in this experiment.\n",
    ">\n",
    "> Sample: A random sample of 80 students who participated in the tea-tasting experiment.\n",
    ">\n",
    "> Parameter of Interest: The proportion p of all STA130 students who can correctly identify the order in which tea and milk were poured.\n",
    ">\n",
    ">  Observed Test Statistic: The sample proportion p =49/80=0.6125.\n",
    "\n",
    "3. Hypotheses\n",
    "> Null Hypothesis (H0): The proportion of students who can correctly identify the order of pouring is 0.5, indicating random guessing. \n",
    ">\n",
    "    > H0: p = 0.5\n",
    "    >\n",
    "> Alternative Hypothesis (HA): The proportion of students who can correctly identify the order of pouring is greater than 0.5, suggesting that students are better than random guessing\n",
    ">\n",
    "    > Ha: p > 0.5\n",
    "> \n",
    "> In informal terms, the null hypothesis assumes that the students are simply guessing, and as a result, about half of them should get the order right just by chance.\n",
    "\n",
    "\n",
    "\n",
    "4. Quantitative Analysis Addressing the Validity of H0\n",
    "> To test the null hypothesis, we use bootstrapping to create a distribution of sample proportions based on the observed data, and from this distribution, we:\n",
    ">\n",
    "    > Estimate a 95% Confidence Interval (CI) for the proportion of correct guesses.\n",
    "    >\n",
    "    > Estimate a p-value to test whether the observed proportion is significantly greater than 0.5.\n",
    "    >\n",
    "    > Bootstrapping involves repeatedly resampling the original data to create many \"bootstrapped\" datasets, from which we can calculate a sampling distribution of proportions. This method avoids the need for parametric assumptions like normality."
   ]
  },
  {
   "cell_type": "code",
   "execution_count": 4,
   "id": "1ac5d366",
   "metadata": {},
   "outputs": [
    {
     "data": {
      "image/png": "[encoded data removed]",
      "text/plain": [
       "<Figure size 640x480 with 1 Axes>"
      ]
     },
     "metadata": {},
     "output_type": "display_data"
    },
    {
     "name": "stdout",
     "output_type": "stream",
     "text": [
      "95% Confidence Interval: [0.5    0.7125]\n",
      "Estimated P-value: 0.5505\n"
     ]
    }
   ],
   "source": [
    "import numpy as np\n",
    "import matplotlib.pyplot as plt\n",
    "\n",
    "# Parameters\n",
    "n = 80\n",
    "observed_correct = 49\n",
    "observed_proportion = observed_correct / n\n",
    "bootstrap_samples = 10000\n",
    "\n",
    "# Reproducibility\n",
    "np.random.seed(42)\n",
    "\n",
    "# Bootstrapping to generate a distribution of sample proportions\n",
    "bootstrapped_proportions = []\n",
    "for _ in range(bootstrap_samples):\n",
    "    # Generate a bootstrap sample\n",
    "    sample = np.random.choice([1, 0], size=n, p=[observed_proportion, 1 - observed_proportion])\n",
    "    sample_proportion = np.mean(sample)\n",
    "    bootstrapped_proportions.append(sample_proportion)\n",
    "\n",
    "# Calculate the 95% confidence interval\n",
    "conf_interval = np.percentile(bootstrapped_proportions, [2.5, 97.5])\n",
    "\n",
    "# Estimate p-value: Proportion of bootstrapped samples >= observed proportion\n",
    "p_value = np.mean(np.array(bootstrapped_proportions) >= observed_proportion)\n",
    "\n",
    "# Plotting the histogram of bootstrapped proportions\n",
    "plt.hist(bootstrapped_proportions, bins=30, alpha=0.7, color='blue', edgecolor='black')\n",
    "plt.axvline(observed_proportion, color='red', linestyle='--', label=f'Observed Proportion ({observed_proportion:.4f})')\n",
    "plt.axvline(conf_interval[0], color='green', linestyle='--', label=f'95% CI Lower ({conf_interval[0]:.4f})')\n",
    "plt.axvline(conf_interval[1], color='green', linestyle='--', label=f'95% CI Upper ({conf_interval[1]:.4f})')\n",
    "\n",
    "# Titles and labels\n",
    "plt.title(\"Bootstrap Sampling Distribution of Proportion (with CI and P-value)\")\n",
    "plt.xlabel(\"Proportion of Correct Guesses\")\n",
    "plt.ylabel(\"Frequency\")\n",
    "plt.legend()\n",
    "\n",
    "# Show p-value on plot\n",
    "plt.text(observed_proportion + 0.02, 250, f'P-value: {p_value:.4f}', color='black')\n",
    "\n",
    "# Show the plot\n",
    "plt.show()\n",
    "\n",
    "# Print the calculated confidence interval and p-value\n",
    "print(f\"95% Confidence Interval: {conf_interval}\")\n",
    "print(f\"Estimated P-value: {p_value}\")\n"
   ]
  },
  {
   "cell_type": "markdown",
   "id": "ecb84ba4",
   "metadata": {},
   "source": [
    "6. Findings and Discussion\n",
    "> 95% Confidence Interval: After performing bootstrapping, the 95% confidence interval for the proportion of correct guesses is between 0.5000 and 0.7125. This interval suggests that the true proportion of STA130 students who can correctly identify the order of pouring lies somewhere between these values.\n",
    ">\n",
    "> Notably, the lower bound of the confidence interval (0.5000) coincides with the proportion expected by random guessing. This suggests that the observed proportion (0.6125) could still be due to chance.\n",
    "> \n",
    "> P-value: The estimated p-value from bootstrapping is 0.5505. Since this p-value is greater than the common significance threshold (e.g., 0.05), we do not have enough evidence to reject the null hypothesis.\n",
    "\n",
    "7. Conclusion\n",
    ">Given the results of the bootstrap analysis:\n",
    ">\n",
    "> Confidence Interval: The 95% confidence interval includes 0.5, which implies that the true proportion of correct guesses could be consistent with random guessing.\n",
    ">\n",
    "> P-value: The p-value of 0.5505 is much larger than typical significance levels (e.g., 0.05), meaning that we fail to reject the null hypothesis. This suggests that the ability of STA130 students to correctly identify the order of pouring is not significantly better than random guessing.\n",
    ">\n",
    "> Therefore, based on this analysis, we conclude that the data does not provide sufficient evidence to support the claim that STA130 students are better than random chance at identifying whether milk or tea was poured first."
   ]
  },
  {
   "cell_type": "markdown",
   "id": "9c60c902",
   "metadata": {},
   "source": [
    "Here’s a summary of our conversation:\n",
    "\n",
    "You are working on an assignment involving Fisher’s Tea Experiment, where you’re analyzing whether STA130 students can identify the order in which tea and milk were poured. You provided data showing that 49 out of 80 students correctly identified the order. You requested a statistical analysis using bootstrapping to estimate the confidence interval and p-value for the hypothesis test.\n",
    "\n",
    "The null hypothesis \\( H_0 \\) is that the proportion of students who can correctly identify the order is 0.5 (indicating random guessing), while the alternative hypothesis \\( H_A \\) is that the proportion is greater than 0.5.\n",
    "\n",
    "We used Python code to perform bootstrapping, and the output gave:\n",
    "- A 95% confidence interval of [0.5000, 0.7125].\n",
    "- An estimated p-value of 0.5505.\n",
    "\n",
    "Based on these results, we failed to reject the null hypothesis, concluding that STA130 students' ability to identify the pouring order does not significantly differ from random guessing.\n",
    "\n",
    "link: https://chatgpt.com/share/670d6def-5df0-8013-92ae-dfce53aa2505"
   ]
  },
  {
   "cell_type": "markdown",
   "id": "de695a72",
   "metadata": {},
   "source": [
    "# Q.9"
   ]
  },
  {
   "cell_type": "markdown",
   "id": "79e05985",
   "metadata": {},
   "source": [
    "I used both chatgpt and notebook. i mostly used notebook for definitions and making sure I know what im writing about and chatgpt to generate code "
   ]
  },
  {
   "cell_type": "code",
   "execution_count": null,
   "id": "337dd57f",
   "metadata": {},
   "outputs": [],
   "source": []
  }
 ],
 "metadata": {
  "kernelspec": {
   "display_name": "Python 3 (ipykernel)",
   "language": "python",
   "name": "python3"
  },
  "language_info": {
   "codemirror_mode": {
    "name": "ipython",
    "version": 3
   },
   "file_extension": ".py",
   "mimetype": "text/x-python",
   "name": "python",
   "nbconvert_exporter": "python",
   "pygments_lexer": "ipython3",
   "version": "3.11.6"
  }
 },
 "nbformat": 4,
 "nbformat_minor": 5
}

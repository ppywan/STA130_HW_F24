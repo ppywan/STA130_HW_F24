{
 "cells": [
  {
   "cell_type": "markdown",
   "id": "cb45a3fb",
   "metadata": {},
   "source": [
    "# STA130 Homework 04"
   ]
  },
  {
   "cell_type": "markdown",
   "id": "d0b05387",
   "metadata": {},
   "source": [
    "# q.1"
   ]
  },
  {
   "cell_type": "markdown",
   "id": "3c0784ec",
   "metadata": {},
   "source": [
    "the video talked about sampling with replacement and chat gave me this discription:\n",
    "\n",
    "From the original dataset, you draw multiple random samples (called bootstrap samples), where each sample is the same size as the original dataset, and some data points may appear multiple times.\n",
    "\n",
    "and the difference between \"standard error of mean\"(SEM) and \"standard deviation\" (SD) are both measuring for variability, they are differet. SEM measures for the precision of the sample mean as an estimate of the population mean, it quantifies the uncertainty in the sample mean due to sampling variability, it shows how much the sample mean vary when take multiple samples from the same population. while SD measures for the spread of individual data points in a sample or population around the mean, giving a sense of how much variation exists within the dataset where a larger dataset means more standard deviation. "
   ]
  },
  {
   "cell_type": "markdown",
   "id": "86badf09",
   "metadata": {},
   "source": [
    "In this conversation, we discussed:\n",
    "\n",
    "1. **Bootstrapping in statistics**: A resampling method used to estimate the distribution of a statistic by repeatedly drawing samples from a dataset with replacement.\n",
    "2. **Standard deviation vs. standard error of the mean (SEM)**: Standard deviation measures variability in the data, while SEM measures the precision of the sample mean as an estimate of the population mean.\n",
    "3. **Using SEM to create a 95% confidence interval**: You can calculate the 95% confidence interval using the formula:\n",
    "   \\[\n",
    "   \\text{95% CI} = \\bar{x} \\pm 1.96 \\times \\text{SEM}\n",
    "   \\]\n",
    "   This interval covers 95% of the bootstrapped sample means and gives an estimate of the population mean with 95% confidence.\n",
    "   \n",
    "   link: https://chatgpt.com/share/66fdbc66-34b8-8008-b138-b03b51dacc08"
   ]
  },
  {
   "cell_type": "markdown",
   "id": "29f6c152",
   "metadata": {},
   "source": [
    "# q.2"
   ]
  },
  {
   "cell_type": "markdown",
   "id": "7d6387fc",
   "metadata": {},
   "source": [
    "To create the 95% confidence interval, first is too bootstrap the data, to resample the data with replacement a lot of time and then calculating the mean for each reampling giving me a distribution of the boostrapped sample mean. second is to calculate the SEM by using the bootstapped sample means to get the standard deviation which gives an estimate of the SEM. and lastly to get the 95% confidence interval, we can use the 2.5th and 97.5th percentiles of the distribution of bootstrapped sample means. This will give us the bounds of the confidence interval. \n",
    "\n",
    "in conclusion: A 95% confidence interval can be constructed using the formula \n",
    "𝑥\n",
    "ˉ\n",
    "±\n",
    "1.96\n",
    "⋅\n",
    "SEM\n",
    "x\n",
    "ˉ\n",
    " ±1.96⋅SEM, where \n",
    "1.96\n",
    "1.96 is the z-score for 95% confidence."
   ]
  },
  {
   "cell_type": "markdown",
   "id": "8807e37f",
   "metadata": {},
   "source": [
    "We discussed how to use the standard error of the mean (SEM) to create a 95% confidence interval in statistics, focusing on bootstrapping. The SEM measures the variability of the sample mean from the population mean, calculated by dividing the sample standard deviation by the square root of the sample size. Bootstrapping involves resampling the data with replacement multiple times, calculating sample means each time, and then determining the SEM from the bootstrapped sample means. \n",
    "\n",
    "To create a 95% confidence interval, the interval is constructed as:\n",
    "\n",
    "\\[\n",
    "\\left( \\bar{x} - 1.96 \\cdot \\text{SEM}, \\bar{x} + 1.96 \\cdot \\text{SEM} \\right)\n",
    "\\]\n",
    "\n",
    "This interval will contain 95% of the bootstrapped sample means. In an example with exam scores, if the bootstrapped mean is 70 and the SEM is 2.5, the 95% confidence interval is \\( (65.1, 74.9) \\).\n",
    "\n",
    "Would you like an example code or further clarification on bootstrapping?\n",
    "\n",
    "link: https://chatgpt.com/share/66fdbf26-6678-8013-bf77-c7d712736e69"
   ]
  },
  {
   "cell_type": "markdown",
   "id": "121388dd",
   "metadata": {},
   "source": [
    "# q.3"
   ]
  },
  {
   "cell_type": "markdown",
   "id": "b67d62a3",
   "metadata": {},
   "source": [
    "the video said that the 95% confidence interval jsut needed to cover 95% of the data set. Instead of using the standard deviation and calculating the standard error of the mean, you can generate bootstrapped samples, calculate their means, and then find the 2.5th and 97.5th percentiles of the distribution of bootstrapped means to construct a 95% confidence interval. This method directly uses the empirical distribution of the bootstrapped means to determine the confidence interval."
   ]
  },
  {
   "cell_type": "markdown",
   "id": "1e7c7398",
   "metadata": {},
   "source": [
    "We discussed how to estimate the range of a future sample mean using a **prediction interval** based on bootstrapped sample means. By constructing a 95% prediction interval from the 2.5th and 97.5th percentiles of the bootstrapped means, you can estimate the range in which a future sample mean of the same size is likely to fall.\n",
    "\n",
    "We also covered the difference between a **95% bootstrapped confidence interval**, which covers exactly 95% of the bootstrapped means, and the standard method of \"mean ± 2 times the standard error,\" which only approximates 95%.\n",
    "\n",
    "Next, we explained that the variability of sample means decreases as sample size increases, following the standard error of the mean formula \\(\\text{SEM} = \\frac{s}{\\sqrt{n}}\\).\n",
    "\n",
    "Additionally, we emphasized that bootstrapping must use the **same sample size** as the original data to maintain correct variability. Finally, we explained why **sampling with replacement** is essential in bootstrapping to introduce new variability, whereas sampling without replacement merely shuffles the data without adding any new variation.\n",
    "\n",
    "link:https://chatgpt.com/share/66fdbf26-6678-8013-bf77-c7d712736e69"
   ]
  },
  {
   "cell_type": "markdown",
   "id": "9f53b724",
   "metadata": {},
   "source": [
    "# q.4"
   ]
  },
  {
   "cell_type": "code",
   "execution_count": 1,
   "id": "379b67fc",
   "metadata": {},
   "outputs": [
    {
     "name": "stdout",
     "output_type": "stream",
     "text": [
      "95% Bootstrap Confidence Interval for the mean: (17.3, 26.7)\n"
     ]
    }
   ],
   "source": [
    "import numpy as np\n",
    "\n",
    "# Sample data: Replace this with your actual sample\n",
    "sample = np.array([10, 12, 23, 23, 16, 29, 35, 24, 30, 18])\n",
    "\n",
    "# Define the number of bootstrap resamples\n",
    "n_resamples = 10000\n",
    "\n",
    "# Set a random seed for reproducibility (optional)\n",
    "np.random.seed(42)\n",
    "\n",
    "# Bootstrap resampling: Generate n_resamples of size equal to the original sample\n",
    "bootstrap_samples = np.random.choice(sample, size=(n_resamples, len(sample)), replace=True)\n",
    "\n",
    "# Calculate the statistic of interest (mean) for each resample\n",
    "bootstrap_means = np.mean(bootstrap_samples, axis=1)\n",
    "\n",
    "# Compute the 95% confidence interval (2.5th and 97.5th percentiles)\n",
    "lower_bound = np.percentile(bootstrap_means, 2.5)\n",
    "upper_bound = np.percentile(bootstrap_means, 97.5)\n",
    "\n",
    "print(f\"95% Bootstrap Confidence Interval for the mean: ({lower_bound}, {upper_bound})\")\n",
    "\n",
    "# --- Comments for modification ---\n",
    "# To calculate the confidence interval for a different statistic, change np.mean to the desired function.\n",
    "# For example:\n",
    "# 1. For median: replace np.mean with np.median:\n",
    "#    bootstrap_medians = np.median(bootstrap_samples, axis=1)\n",
    "# 2. For variance: replace np.mean with np.var:\n",
    "#    bootstrap_variances = np.var(bootstrap_samples, axis=1)\n",
    "# 3. For standard deviation: replace np.mean with np.std:\n",
    "#    bootstrap_std_devs = np.std(bootstrap_samples, axis=1)\n",
    "# The rest of the code (percentile calculation) remains unchanged.\n"
   ]
  },
  {
   "cell_type": "markdown",
   "id": "26ad4f8a",
   "metadata": {},
   "source": [
    "The code generates a 95% bootstrap confidence interval for a population mean based on a given sample. It resamples the data with replacement 10,000 times, calculates the mean for each resample, and determines the interval by finding the 2.5th and 97.5th percentiles of the bootstrap distribution of means.\n",
    "\n",
    "To modify the code for other statistics (e.g., median, variance, standard deviation), simply replace `np.mean` with the corresponding function (e.g., `np.median`, `np.var`, `np.std`) while keeping the rest of the process unchanged.\n",
    "\n",
    "link: https://chatgpt.com/share/66fdedf9-b380-8013-b673-b0db5568a623"
   ]
  },
  {
   "cell_type": "markdown",
   "id": "8e46099e",
   "metadata": {},
   "source": [
    "# q.5"
   ]
  },
  {
   "cell_type": "markdown",
   "id": "604f8bbf",
   "metadata": {},
   "source": [
    "Population Parameter: A true, fixed value (e.g., population mean, 𝜇) that describes the entire population but is usually unknown.\n",
    "\n",
    "Sample Statistic: A value calculated from a sample (e.g., sample mean, 𝑥̄), used to estimate the population parameter.\n",
    "\n",
    "Confidence intervals estimate population parameters by providing a range around the sample statistic, accounting for sampling variability and uncertainty. The margin of error reflects this variability, helping estimate unknown parameters from sample data."
   ]
  },
  {
   "cell_type": "markdown",
   "id": "6f0275a7",
   "metadata": {},
   "source": [
    "Here's a summary of our conversation about the distinction between population parameters and sample statistics in the context of confidence intervals:\n",
    "\n",
    "1. **Definitions**:\n",
    "   - **Population Parameter**: A fixed numerical value describing a characteristic of the entire population (e.g., mean \\(\\mu\\), proportion \\(p\\)).\n",
    "   - **Sample Statistic**: A value computed from a sample that serves as an estimate of the population parameter (e.g., sample mean \\(\\bar{x}\\), sample proportion \\(\\hat{p}\\)).\n",
    "\n",
    "2. **Relationship**:\n",
    "   - Sample statistics are used to estimate population parameters, but due to sampling variability, different samples can yield different statistics, introducing sampling error.\n",
    "\n",
    "3. **Confidence Intervals**:\n",
    "   - Confidence intervals (CIs) provide a range of values likely containing the population parameter based on the sample statistic.\n",
    "   - They are constructed by calculating the sample statistic, determining the standard error, choosing a confidence level, calculating the margin of error, and then constructing the interval.\n",
    "\n",
    "4. **Interpretation**:\n",
    "   - A CI indicates the range of plausible values for the population parameter, reflecting the level of confidence based on sample data (e.g., a 95% CI suggests 95% confidence the true mean lies within that range).\n",
    "\n",
    "5. **Importance of Distinction**:\n",
    "   - Distinguishing between population parameters and sample statistics helps represent uncertainty in estimates and facilitates valid statistical inference, aiding in research design and decision-making.\n",
    "\n",
    "This conversation emphasized the foundational concepts in statistical inference and the practical implications of confidence intervals in understanding data.\n",
    "\n",
    "link: https://chatgpt.com/share/66fdf00d-0d3c-8013-91dd-3c6de6e9f3f2"
   ]
  },
  {
   "cell_type": "markdown",
   "id": "07f3ec39",
   "metadata": {},
   "source": [
    "# q.6"
   ]
  },
  {
   "cell_type": "markdown",
   "id": "039d5d14",
   "metadata": {},
   "source": [
    "1. What is the process of bootstrapping?\n",
    "\n",
    "    bootstrapping is a process you can use to anaylse a set of data easier and more effiecent. it takes the long process of repeating trials and shortening it by using the same set of data and randomly choosing the value into another list that is the same sample size of the original. we can then find the mean of that new sample and we can repeat this process many times to get a histogram of the means of all these new lists to get a bootstrapped mean of this dataset\n",
    "    \n",
    "2. What is the main purpose of bootstrapping?\n",
    "\n",
    "    the main purpose of bootstrapping is to get a better idea of what the overall population looks like, even when we only have a small sample to work with. by taking lots of new samples from our original data (through random resampling), we can see how much variation there is in our results and make better guesses about things like the population mean, without needing to gather more data.\n",
    "    \n",
    "3. If you had a (hypothesized) guess about what the average of a population was, and you had a sample of size n from that population, how could you use bootstrapping to assess whether or not your (hypothesized) guess might be plausible?\n",
    "\n",
    "     if i have a guess about the population's average and a sample of size n, i could use bootstrapping to test it.  by creating new samples by randomly picking values from the original data, calculate the mean of each of those new samples, and see how those bootstrapped means compare to the hypothesis. if it falls in the range of those bootstrapped means, it’s probably plausible. If not, it is probably off"
   ]
  },
  {
   "cell_type": "markdown",
   "id": "0bae64e2",
   "metadata": {},
   "source": [
    "# q.7"
   ]
  },
  {
   "cell_type": "markdown",
   "id": "ac3998a8",
   "metadata": {},
   "source": [
    "the confidence interval represents a range of values that could be the true average effect of the drug. since zdro is in that range, it means that zero could be the real average effect of the drug. asthe null hypothesis assumes the drug has no effect and we can't reject the idea of zero being a possible value based on the data.\n",
    "\n",
    "when the sample mean isn't zero, theres always some variability of the data where the confidence interval should account for that variability. even if the sample mean is more positive or negative, as long as it includes zero it means that there is a possibility of the drug having no effects.\n",
    "\n",
    "if the confidence interval does not include zero, it means that the true effect of the drug is unlikely to be zero based on the data. it would give a evidence against the null hypothesis, leading us to reject the idea that the drug has no effect."
   ]
  },
  {
   "cell_type": "markdown",
   "id": "bf5e2b47",
   "metadata": {},
   "source": [
    "# q.8"
   ]
  },
  {
   "cell_type": "markdown",
   "id": "60ca5cdb",
   "metadata": {},
   "source": [
    "i first asked chatgpt to bootstrap the data for me"
   ]
  },
  {
   "cell_type": "code",
   "execution_count": 2,
   "id": "a8b167ef",
   "metadata": {},
   "outputs": [
    {
     "data": {
      "text/plain": [
       "(3.3075, (0.7, 5.5))"
      ]
     },
     "execution_count": 2,
     "metadata": {},
     "output_type": "execute_result"
    }
   ],
   "source": [
    "import numpy as np\n",
    "import pandas as pd\n",
    "\n",
    "# Create the dataframe from the provided data\n",
    "data = {\n",
    "    'PatientID': [1, 2, 3, 4, 5, 6, 7, 8, 9, 10],\n",
    "    'Age': [45, 34, 29, 52, 37, 41, 33, 48, 26, 39],\n",
    "    'Gender': ['M', 'F', 'M', 'F', 'M', 'F', 'M', 'F', 'M', 'F'],\n",
    "    'InitialHealthScore': [84, 78, 83, 81, 81, 80, 79, 85, 76, 83],\n",
    "    'FinalHealthScore': [86, 86, 80, 86, 84, 86, 86, 82, 83, 84]\n",
    "}\n",
    "\n",
    "df = pd.DataFrame(data)\n",
    "\n",
    "# Calculate the change in health score\n",
    "df['HealthScoreChange'] = df['FinalHealthScore'] - df['InitialHealthScore']\n",
    "\n",
    "# Define a function to perform bootstrapping\n",
    "def bootstrap_mean_change(data, n_iterations=1000):\n",
    "    np.random.seed(42)\n",
    "    bootstrapped_means = []\n",
    "    for i in range(n_iterations):\n",
    "        # Resample the data with replacement\n",
    "        sample = np.random.choice(data, size=len(data), replace=True)\n",
    "        # Calculate the mean of the resampled data\n",
    "        bootstrapped_means.append(np.mean(sample))\n",
    "    return np.array(bootstrapped_means)\n",
    "\n",
    "# Perform bootstrapping on the health score change data\n",
    "boot_means = bootstrap_mean_change(df['HealthScoreChange'], n_iterations=1000)\n",
    "\n",
    "# Calculate the 95% confidence interval\n",
    "lower_bound = np.percentile(boot_means, 2.5)\n",
    "upper_bound = np.percentile(boot_means, 97.5)\n",
    "\n",
    "# Output results\n",
    "mean_change = np.mean(boot_means)\n",
    "mean_change, (lower_bound, upper_bound)\n"
   ]
  },
  {
   "cell_type": "code",
   "execution_count": 3,
   "id": "75370102",
   "metadata": {},
   "outputs": [
    {
     "data": {
      "image/png": "[encoded data removed]",
      "text/plain": [
       "<Figure size 800x600 with 1 Axes>"
      ]
     },
     "metadata": {},
     "output_type": "display_data"
    }
   ],
   "source": [
    "import matplotlib.pyplot as plt\n",
    "\n",
    "# Create the histogram\n",
    "plt.figure(figsize=(8, 6))\n",
    "plt.hist(boot_means, bins=30, color='skyblue', edgecolor='black')\n",
    "plt.title('Bootstrapped Distribution of Mean Health Score Changes')\n",
    "plt.xlabel('Mean Health Score Change')\n",
    "plt.ylabel('Frequency')\n",
    "\n",
    "# Display the plot\n",
    "plt.axvline(mean_change, color='red', linestyle='dashed', linewidth=1.5, label=f'Mean: {mean_change:.2f}')\n",
    "plt.axvline(lower_bound, color='green', linestyle='dashed', linewidth=1.5, label=f'Lower 95% CI: {lower_bound:.2f}')\n",
    "plt.axvline(upper_bound, color='green', linestyle='dashed', linewidth=1.5, label=f'Upper 95% CI: {upper_bound:.2f}')\n",
    "plt.legend()\n",
    "plt.show()\n",
    "\n"
   ]
  },
  {
   "cell_type": "markdown",
   "id": "7b3b323b",
   "metadata": {},
   "source": [
    "> - Problem Introduction \n",
    ">     - The goal of this analysis is to determine whether AliTech's new vaccine effectively improves the health of individuals who take it. The dataset provided contains Initial and Final Health Scores for each patient, and the key metric of interest is the change in health scores after taking the vaccine.\n",
    ">\n",
    ">     - the null hypothesis assumes that the vaccine has no effect on the patients' health, meaning the change in health scores is due to random variation or factors unrelated to the vaccine. The alternative hypothesis posits that there is a significant difference (either positive or negative) in health scores after the vaccine\n",
    ">\n",
    ">     - we calculated the mean of the change to be 3.3 with a confidence interval of (0.7, 5.5) shown by the histogram above.\n",
    ">\n",
    "> - Quantitative Analysis\n",
    ">     - to determine whether the average change in health scores is significantly different from zero. We use bootstrapping to estimate the confidence interval for the mean health score change, which allows us to assess the evidence for or against the null hypothesis. with 1000 iterations with the changing and replacing the samples and getting different mean health score changes, we calculate the mean and the 95% confidence interval showing it on the histogram to see if 0 is included or excluded\n",
    ">\n",
    "> - Findings and Discussion\n",
    ">     - since the 95% confidence interval exludes 0, we reject the null hypothesis and conclude that the vaccine likely has a positive effect on patients' health "
   ]
  },
  {
   "cell_type": "markdown",
   "id": "8fc66f5f",
   "metadata": {},
   "source": [
    "Here's a summary of our conversation about the **Vaccine Data Analysis Assignment**:\n",
    "\n",
    "1. **Bootstrapping the Data**:  \n",
    "   You provided a dataset with health scores before and after patients received a vaccine. We focused on assessing whether the vaccine improved health using the bootstrapping method. This involved calculating the difference between the final and initial health scores for each patient and using bootstrapping to estimate the distribution of the mean health score change. We used 1000 resampling iterations to calculate the mean and a 95% confidence interval for the health score changes.\n",
    "\n",
    "2. **Visualizing the Data**:  \n",
    "   A histogram of the bootstrapped means was generated to visually represent the distribution of health score changes, including mean and confidence interval lines. This helped illustrate the distribution of the bootstrapped estimates and provided initial insights into the data.\n",
    "\n",
    "3. **Report Structure**:  \n",
    "   We discussed organizing the report in a clear and structured manner:\n",
    "   - **Introduction**: Overview of the problem and the meaning of the null hypothesis (no effect of the vaccine).\n",
    "   - **Data Visualization**: Initial comparisons of the initial and final health scores, along with the distribution of health score changes.\n",
    "   - **Quantitative Analysis**: Using bootstrapping to estimate the mean health score change and its confidence interval.\n",
    "   - **Methodology Code and Explanations**: Detailed explanation of the bootstrapping process, including code, confidence interval calculation, and justification for using this method.\n",
    "   - **Findings and Conclusion**: Analysis of the results, including whether the confidence interval includes zero, which would determine if the null hypothesis of \"no effect\" is rejected.\n",
    "\n",
    "4. **Further Considerations**:  \n",
    "   We briefly touched on possible limitations (small sample size) and other factors like age or gender that could influence results. You were also encouraged to explore alternative statistical tests or larger datasets for a more comprehensive analysis.\n",
    "\n",
    "link: https://chatgpt.com/share/66fe12bb-10b4-8013-a836-1f1a486979a9"
   ]
  },
  {
   "cell_type": "markdown",
   "id": "dd0a28ea",
   "metadata": {},
   "source": [
    "# q.9"
   ]
  },
  {
   "cell_type": "markdown",
   "id": "0143cce6",
   "metadata": {},
   "source": [
    "I use both chat gpt and the textbook"
   ]
  },
  {
   "cell_type": "code",
   "execution_count": null,
   "id": "f2674c12",
   "metadata": {},
   "outputs": [],
   "source": []
  }
 ],
 "metadata": {
  "kernelspec": {
   "display_name": "Python 3 (ipykernel)",
   "language": "python",
   "name": "python3"
  },
  "language_info": {
   "codemirror_mode": {
    "name": "ipython",
    "version": 3
   },
   "file_extension": ".py",
   "mimetype": "text/x-python",
   "name": "python",
   "nbconvert_exporter": "python",
   "pygments_lexer": "ipython3",
   "version": "3.11.6"
  }
 },
 "nbformat": 4,
 "nbformat_minor": 5
}

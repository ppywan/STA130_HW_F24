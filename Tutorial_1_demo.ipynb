{
 "cells": [
  {
   "cell_type": "code",
   "execution_count": 1,
   "id": "7afa17e8",
   "metadata": {},
   "outputs": [
    {
     "data": {
      "text/plain": [
       "2"
      ]
     },
     "execution_count": 1,
     "metadata": {},
     "output_type": "execute_result"
    }
   ],
   "source": [
    "1+1 "
   ]
  },
  {
   "cell_type": "code",
   "execution_count": null,
   "id": "b40ceecc",
   "metadata": {},
   "outputs": [],
   "source": []
  },
  {
   "cell_type": "code",
   "execution_count": 2,
   "id": "af5764cb",
   "metadata": {},
   "outputs": [
    {
     "data": {
      "text/plain": [
       "22"
      ]
     },
     "execution_count": 2,
     "metadata": {},
     "output_type": "execute_result"
    }
   ],
   "source": [
    "10+12"
   ]
  },
  {
   "cell_type": "markdown",
   "id": "71782e77",
   "metadata": {},
   "source": [
    "markdown (not code, commenting), can be used for answers "
   ]
  },
  {
   "cell_type": "code",
   "execution_count": 3,
   "id": "e6c7668b",
   "metadata": {},
   "outputs": [
    {
     "name": "stdout",
     "output_type": "stream",
     "text": [
      "   Unnamed: 0                                                url  \\\n",
      "0           0  https://www.iol.co.za/entertainment/movies-the...   \n",
      "1           1  https://www.iol.co.za/entertainment/music/the-...   \n",
      "2           2  https://www.iol.co.za/entertainment/celebrity-...   \n",
      "3           3  https://www.iol.co.za/news/south-africa/wester...   \n",
      "4           4  https://www.iol.co.za/business-report/careers/...   \n",
      "\n",
      "                                    headline_no_site       site  \\\n",
      "0         'Lady Bird' buzzes through young sexuality  iol.co.za   \n",
      "1  The shadowy urban POP super Starrah who loves ...  iol.co.za   \n",
      "2  Rihanna pens heartfelt tribute to her mom in b...  iol.co.za   \n",
      "3  Shock as woman accused of killing teen girlfri...  iol.co.za   \n",
      "4  TOP STORY: Meet South Africa's new first lady ...  iol.co.za   \n",
      "\n",
      "                        time       country      bias  \n",
      "0  2018-02-23 08:00:00+00:00  South Africa  0.000000  \n",
      "1  2018-01-10 08:00:00+00:00  South Africa  0.166667  \n",
      "2  2018-02-21 08:00:00+00:00  South Africa  0.333333  \n",
      "3  2018-02-27 08:00:00+00:00  South Africa  0.333333  \n",
      "4  2018-02-15 08:00:00+00:00  South Africa  0.166667  \n"
     ]
    }
   ],
   "source": [
    "import pandas as pd\n",
    "\n",
    "# Load the dataset\n",
    "url = 'https://github.com/the-pudding/data/blob/master/women-in-headlines/headlines.csv?raw=true'\n",
    "data = pd.read_csv(url)\n",
    "\n",
    "# Display the first few rows\n",
    "print(data.head())\n"
   ]
  },
  {
   "cell_type": "markdown",
   "id": "7e424b66",
   "metadata": {},
   "source": [
    "Here's a summary of our interaction:\n",
    "\n",
    "Dataset Request: You asked for amusing, funny, or interesting publicly available datasets in CSV format.\n",
    "\n",
    "Dataset Suggestions: I provided a list of interesting datasets, including ones about emojis, dog names, Jeopardy! questions, and more.\n",
    "\n",
    "Dataset Specific Inquiry: You specifically requested the \"Why Women Apologize\" dataset from The Pudding and asked how to load it using pandas.\n",
    "\n",
    "Dataset Details: I confirmed the dataset's availability on The Pudding's GitHub repository and provided the necessary Python code to load the CSV file using pandas."
   ]
  },
  {
   "cell_type": "code",
   "execution_count": null,
   "id": "21490573",
   "metadata": {},
   "outputs": [],
   "source": []
  }
 ],
 "metadata": {
  "kernelspec": {
   "display_name": "Python 3 (ipykernel)",
   "language": "python",
   "name": "python3"
  },
  "language_info": {
   "codemirror_mode": {
    "name": "ipython",
    "version": 3
   },
   "file_extension": ".py",
   "mimetype": "text/x-python",
   "name": "python",
   "nbconvert_exporter": "python",
   "pygments_lexer": "ipython3",
   "version": "3.11.6"
  }
 },
 "nbformat": 4,
 "nbformat_minor": 5
}
